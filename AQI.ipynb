{
 "cells": [
  {
   "cell_type": "code",
   "execution_count": 1,
   "id": "9431520c",
   "metadata": {},
   "outputs": [
    {
     "ename": "ModuleNotFoundError",
     "evalue": "No module named 'geopanda'",
     "output_type": "error",
     "traceback": [
      "\u001b[1;31m---------------------------------------------------------------------------\u001b[0m",
      "\u001b[1;31mModuleNotFoundError\u001b[0m                       Traceback (most recent call last)",
      "\u001b[1;32m<ipython-input-1-86368e119668>\u001b[0m in \u001b[0;36m<module>\u001b[1;34m\u001b[0m\n\u001b[0;32m      4\u001b[0m \u001b[1;32mimport\u001b[0m \u001b[0mseaborn\u001b[0m \u001b[1;32mas\u001b[0m \u001b[0msns\u001b[0m\u001b[1;33m\u001b[0m\u001b[1;33m\u001b[0m\u001b[0m\n\u001b[0;32m      5\u001b[0m \u001b[1;32mimport\u001b[0m \u001b[0mmatplotlib\u001b[0m\u001b[1;33m.\u001b[0m\u001b[0mpyplot\u001b[0m \u001b[1;32mas\u001b[0m \u001b[0mplt\u001b[0m\u001b[1;33m\u001b[0m\u001b[1;33m\u001b[0m\u001b[0m\n\u001b[1;32m----> 6\u001b[1;33m \u001b[1;32mimport\u001b[0m \u001b[0mgeopanda\u001b[0m \u001b[1;32mas\u001b[0m \u001b[0mgpd\u001b[0m\u001b[1;33m\u001b[0m\u001b[1;33m\u001b[0m\u001b[0m\n\u001b[0m\u001b[0;32m      7\u001b[0m \u001b[1;32mfrom\u001b[0m \u001b[0msklearn\u001b[0m\u001b[1;33m.\u001b[0m\u001b[0mmodel_selection\u001b[0m \u001b[1;32mimport\u001b[0m \u001b[0mtrain_test_split\u001b[0m\u001b[1;33m\u001b[0m\u001b[1;33m\u001b[0m\u001b[0m\n\u001b[0;32m      8\u001b[0m \u001b[1;32mfrom\u001b[0m \u001b[0msklearn\u001b[0m\u001b[1;33m.\u001b[0m\u001b[0mlinear_model\u001b[0m \u001b[1;32mimport\u001b[0m \u001b[0mLinearRegression\u001b[0m\u001b[1;33m\u001b[0m\u001b[1;33m\u001b[0m\u001b[0m\n",
      "\u001b[1;31mModuleNotFoundError\u001b[0m: No module named 'geopanda'"
     ]
    }
   ],
   "source": [
    "#import all the necessory\n",
    "import numpy as np \n",
    "import pandas as pd \n",
    "import seaborn as sns\n",
    "import matplotlib.pyplot as plt\n",
    "import geopanda as gpd\n",
    "from sklearn.model_selection import train_test_split\n",
    "from sklearn.linear_model import LinearRegression\n",
    "from sklearn.metrics import mean_squared_log_error\n",
    "from sklearn.metrics import mean_squared_error\n",
    "from sklearn.metrics import r2_score, mean_squared_error\n",
    "from sklearn.model_selection import KFold\n",
    "from sklearn.model_selection import cross_val_score\n",
    "pd.options.mode.chained_assignment = None  # default='warn'\n",
    "%matplotlib inline"
   ]
  },
  {
   "cell_type": "code",
   "execution_count": null,
   "id": "cbfcaf9d",
   "metadata": {},
   "outputs": [],
   "source": [
    "#Import Data\n",
    "data = pd.read_csv(\"dataset.csv\", low_memory=False)"
   ]
  },
  {
   "cell_type": "code",
   "execution_count": null,
   "id": "b6a6bf64",
   "metadata": {},
   "outputs": [],
   "source": [
    "#Checking if data is properly imported\n",
    "data.head()"
   ]
  },
  {
   "cell_type": "code",
   "execution_count": null,
   "id": "a9ad90b4",
   "metadata": {},
   "outputs": [],
   "source": [
    "#checking the lower 5 values\n",
    "data.tail()"
   ]
  },
  {
   "cell_type": "code",
   "execution_count": null,
   "id": "1bee582e",
   "metadata": {},
   "outputs": [],
   "source": [
    "data.columns"
   ]
  },
  {
   "cell_type": "code",
   "execution_count": null,
   "id": "e4f2ae89",
   "metadata": {},
   "outputs": [],
   "source": [
    "#checking the data types (pandas) of various features\n",
    "data.dtypes"
   ]
  },
  {
   "cell_type": "code",
   "execution_count": null,
   "id": "da822ec0",
   "metadata": {},
   "outputs": [],
   "source": [
    "data.info()"
   ]
  },
  {
   "cell_type": "code",
   "execution_count": null,
   "id": "12b2552c",
   "metadata": {},
   "outputs": [],
   "source": [
    "#Checking the no. of null value\n",
    "data.isnull().sum()"
   ]
  },
  {
   "cell_type": "code",
   "execution_count": null,
   "id": "8d9b5624",
   "metadata": {},
   "outputs": [],
   "source": [
    "#its clear that there are a lot of null value in pm2.5, agency, stn_code, spm , etc.\n",
    "data.describe()"
   ]
  },
  {
   "cell_type": "code",
   "execution_count": null,
   "id": "1374c621",
   "metadata": {},
   "outputs": [],
   "source": [
    "replacements = {'state': {r'Uttaranchal': 'Uttarakhand', }}\n",
    "data.replace(replacements, regex = True, inplace = True)\n",
    "data[\"state\"].value_counts()"
   ]
  },
  {
   "cell_type": "code",
   "execution_count": null,
   "id": "20b719cc",
   "metadata": {},
   "outputs": [],
   "source": [
    "data['agency'].value_counts()"
   ]
  },
  {
   "cell_type": "code",
   "execution_count": null,
   "id": "8a109115",
   "metadata": {},
   "outputs": [],
   "source": [
    "#deleting all values which have null in type attribute\n",
    "data=data.dropna(axis = 0, subset = ['type'])"
   ]
  },
  {
   "cell_type": "code",
   "execution_count": null,
   "id": "f6dcdf7f",
   "metadata": {},
   "outputs": [],
   "source": [
    "# deleting all values which are null in location attribute\n",
    "data = data.dropna(axis = 0, subset = ['location'])"
   ]
  },
  {
   "cell_type": "code",
   "execution_count": null,
   "id": "d5410789",
   "metadata": {},
   "outputs": [],
   "source": [
    "#deleting all null values in so2 attribute\n",
    "data = data.dropna(axis = 0, subset = ['so2'])"
   ]
  },
  {
   "cell_type": "code",
   "execution_count": null,
   "id": "02cabb36",
   "metadata": {},
   "outputs": [],
   "source": [
    "data.isnull().sum()"
   ]
  },
  {
   "cell_type": "code",
   "execution_count": null,
   "id": "e47418ff",
   "metadata": {},
   "outputs": [],
   "source": [
    "#not interested in agency\n",
    "del data['agency']\n",
    "del data['location_monitoring_station']\n",
    "del data['stn_code']\n",
    "del data['sampling_date']\n",
    "#dataset after deleting the above columns\n",
    "data.head()"
   ]
  },
  {
   "cell_type": "code",
   "execution_count": null,
   "id": "f78edef0",
   "metadata": {},
   "outputs": [],
   "source": [
    "data['type'].value_counts()"
   ]
  },
  {
   "cell_type": "code",
   "execution_count": null,
   "id": "149df452",
   "metadata": {},
   "outputs": [],
   "source": [
    "# We do not need all these types \n",
    "#changing type to only 3 categories\n",
    "a = list(data['type'])\n",
    "for i in range(0, len(data)):\n",
    "    if str(a[i][0]) == 'R' and a[i][1] == 'e':\n",
    "        a[i] = 'Residential'\n",
    "    elif str(a[i][0]) == 'I':\n",
    "        a[i] = 'Industrial'\n",
    "    else:\n",
    "        a[i] = 'Other'\n",
    "#the above code takes all the different types and changes them into 3 types( RESIDENTIAL, INDUSTRIAL, OTHER )\n",
    "data['type'] = a\n",
    "data['type'].value_counts()"
   ]
  },
  {
   "cell_type": "markdown",
   "id": "7860dde0",
   "metadata": {},
   "source": []
  },
  {
   "cell_type": "code",
   "execution_count": null,
   "id": "0bc2e424",
   "metadata": {},
   "outputs": [],
   "source": [
    "g=sns.catplot( y=\"type\", kind = \"count\", palette = \"pastel\", data = data,  orient=\"h\")\n",
    "g.set_axis_labels(\"Count\",\"Type Of Area\")"
   ]
  },
  {
   "cell_type": "code",
   "execution_count": null,
   "id": "a45c7956",
   "metadata": {},
   "outputs": [],
   "source": [
    "counts = data[\"type\"].value_counts()\n",
    "percent = data[\"type\"].value_counts(normalize=True)\n",
    "percent100 = data[\"type\"].value_counts(normalize=True).mul(100).round(1).astype(str) + '%'\n",
    "df = pd.DataFrame({'counts': counts, 'per': percent, 'per100': percent100})\n",
    "df"
   ]
  },
  {
   "cell_type": "code",
   "execution_count": null,
   "id": "603f0926",
   "metadata": {},
   "outputs": [],
   "source": [
    "# Pie chart\n",
    "labels = ['Residential','Industrial','Other']\n",
    "#colors\n",
    "colors = ['#ff9999','#66b3ff','#99ff99']\n",
    "explode = (0.02, 0.02, 0.1)\n",
    "fig1, ax1 = plt.subplots()\n",
    "ax1.pie(df.per, colors = colors, labels=labels,explode=explode ,autopct='%1.1f%%',shadow=True, startangle=90)\n",
    "ax1.axis('equal')  \n",
    "plt.tight_layout()\n",
    "plt.show()"
   ]
  },
  {
   "cell_type": "code",
   "execution_count": null,
   "id": "e1643bce",
   "metadata": {},
   "outputs": [],
   "source": [
    "# Trying to get rid of null values\n",
    "grp_state = data.groupby('state')\n",
    "def impute_mean_by_state(series):\n",
    "    return series.fillna(series.mean())\n",
    "\n",
    "data['rspm']=grp_state['rspm'].transform(impute_mean_by_state)\n",
    "data['so2']=grp_state['so2'].transform(impute_mean_by_state)\n",
    "data['no2']=grp_state['no2'].transform(impute_mean_by_state)\n",
    "data['spm']=grp_state['spm'].transform(impute_mean_by_state)\n",
    "data['pm2_5']=grp_state['pm2_5'].transform(impute_mean_by_state)\n",
    "data.describe()"
   ]
  },
  {
   "cell_type": "code",
   "execution_count": null,
   "id": "b03c6c98",
   "metadata": {},
   "outputs": [],
   "source": [
    "#so2 vs state - desc order\n",
    "so2 = data[['so2', 'state']].groupby(['state']).median().sort_values(\"so2\", ascending = False)"
   ]
  },
  {
   "cell_type": "code",
   "execution_count": null,
   "id": "61945fde",
   "metadata": {},
   "outputs": [],
   "source": [
    "ax = sns.catplot(x=\"so2\", y=so2.index, data=so2, kind=\"bar\" , height=12)\n",
    "plt.xticks(rotation=90)"
   ]
  },
  {
   "cell_type": "code",
   "execution_count": null,
   "id": "161ab81f",
   "metadata": {},
   "outputs": [],
   "source": [
    "no2 = data[['no2', 'state']].groupby(['state']).median().sort_values(\"no2\", ascending = False)\n",
    "ax = sns.catplot(x=\"no2\", y=no2.index, data=no2, kind=\"bar\" , height=12)\n",
    "plt.xticks(rotation=90)"
   ]
  },
  {
   "cell_type": "code",
   "execution_count": null,
   "id": "427c9d68",
   "metadata": {},
   "outputs": [],
   "source": [
    "PM10 = data[['rspm', 'state']].groupby(['state']).median().sort_values(\"rspm\", ascending = False)\n",
    "ax = sns.catplot(x=\"rspm\", y=PM10.index, data=PM10, kind=\"bar\" , height=12)\n",
    "plt.xticks(rotation=90)"
   ]
  },
  {
   "cell_type": "code",
   "execution_count": null,
   "id": "05891b32",
   "metadata": {},
   "outputs": [],
   "source": [
    "spm=data[['spm', 'state']].groupby(['state']).median().sort_values(\"spm\", ascending = False)\n",
    "ax = sns.catplot(x=\"spm\", y=spm.index, data=spm, kind=\"bar\" , height=12)\n",
    "plt.xticks(rotation=90)"
   ]
  },
  {
   "cell_type": "code",
   "execution_count": null,
   "id": "381fea54",
   "metadata": {},
   "outputs": [],
   "source": [
    "data.describe()"
   ]
  },
  {
   "cell_type": "code",
   "execution_count": null,
   "id": "a25dd3e6",
   "metadata": {},
   "outputs": [],
   "source": [
    "pm2_5=data[['pm2_5', 'state']].groupby(['state']).median().sort_values(\"pm2_5\", ascending = False).head(10)\n",
    "ax = sns.catplot(x=\"pm2_5\", y=pm2_5.index, data=pm2_5, kind=\"bar\",palette=\"flare\" , height=12)\n",
    "plt.xticks(rotation=90)"
   ]
  },
  {
   "cell_type": "code",
   "execution_count": null,
   "id": "71b95eef",
   "metadata": {},
   "outputs": [],
   "source": [
    "cols = ['so2', 'no2', 'rspm', 'spm', 'pm2_5']\n",
    "sns.pairplot(data[cols],height = 2.5)\n",
    "plt.show()"
   ]
  },
  {
   "cell_type": "code",
   "execution_count": null,
   "id": "661ff0bc",
   "metadata": {},
   "outputs": [],
   "source": [
    "corrmat = data.corr()\n",
    "f, ax = plt.subplots(figsize = (15, 10))\n",
    "sns.heatmap(corrmat, vmax = 1, square = True, annot = True)"
   ]
  },
  {
   "cell_type": "code",
   "execution_count": null,
   "id": "e9c65fb4",
   "metadata": {},
   "outputs": [],
   "source": [
    "# Creating an year column\n",
    "data['date'] = pd.to_datetime(data['date'], format = '%m/%d/%Y')\n",
    "data['year'] = data['date'].dt.year # year\n",
    "data['year'] = data['year'].fillna(0.0).astype(int)\n",
    "data = data[(data['year']>0)]\n",
    "data.head()\n",
    "\n"
   ]
  },
  {
   "cell_type": "code",
   "execution_count": null,
   "id": "2d33ad62",
   "metadata": {},
   "outputs": [],
   "source": [
    "\n",
    "# Heatmap Pivot with State as Row, Year as Col, So2 as Value\n",
    "f, ax = plt.subplots(figsize = (10,10))\n",
    "ax.set_title('{} by state and year'.format('so2'))\n",
    "sns.heatmap(data.pivot_table('so2', index = 'state',\n",
    "columns = ['year'], aggfunc = 'median', margins=True),\n",
    "                annot = True, cmap = 'YlGnBu', linewidths = 1, ax = ax, cbar_kws = {'label': 'Average taken Annually'})\n"
   ]
  },
  {
   "cell_type": "code",
   "execution_count": null,
   "id": "743c822f",
   "metadata": {},
   "outputs": [],
   "source": [
    "\n",
    "# Heatmap Pivot with State as Row, Year as Col, No2 as Value\n",
    "f, ax = plt.subplots(figsize=(10,10))\n",
    "ax.set_title('{} by state and year'.format('no2'))\n",
    "sns.heatmap(data.pivot_table('no2', index='state',\n",
    "                columns=['year'],aggfunc='median',margins=True),\n",
    "                annot = True, cmap = \"YlGnBu\", linewidths = 1, ax = ax,cbar_kws = {'label': 'Annual Average'})\n"
   ]
  },
  {
   "cell_type": "code",
   "execution_count": null,
   "id": "a2f8381e",
   "metadata": {},
   "outputs": [],
   "source": [
    "\n",
    "\n",
    "# heatmap of rspm\n",
    "f, ax = plt.subplots(figsize = (10,10))\n",
    "ax.set_title('{} by state and year'.format('rspm'))\n",
    "sns.heatmap(data.pivot_table('rspm', index='state',\n",
    "                columns = ['year'], aggfunc = 'median', margins = True),\n",
    "                annot = True, cmap = \"YlGnBu\", linewidths = 1, ax = ax, cbar_kws = {'label': 'Annual Average'})\n",
    "    \n"
   ]
  },
  {
   "cell_type": "code",
   "execution_count": null,
   "id": "9ba5cb9d",
   "metadata": {},
   "outputs": [],
   "source": [
    "\n",
    "# heatmap of spm\n",
    "f, ax = plt.subplots(figsize = (10, 10))\n",
    "ax.set_title('{} by state and year'.format('spm'))\n",
    "sns.heatmap(data.pivot_table('spm', index ='state',\n",
    "                columns = ['year'], aggfunc = 'median', margins = True)\n",
    "                , cmap = \"YlGnBu\", linewidths = 0.5, ax = ax, cbar_kws = {'label': 'Annual Average'})"
   ]
  },
  {
   "cell_type": "code",
   "execution_count": null,
   "id": "d6ef489b",
   "metadata": {},
   "outputs": [],
   "source": [
    "def cal_SOi(so2):\n",
    "    si=0\n",
    "    if (so2<=40):\n",
    "     si= so2*(50/40)\n",
    "    elif (so2>40 and so2<=80):\n",
    "     si= 50+(so2-40)*(50/40)\n",
    "    elif (so2>80 and so2<=380):\n",
    "     si= 100+(so2-80)*(100/300)\n",
    "    elif (so2>380 and so2<=800):\n",
    "     si= 200+(so2-380)*(100/420)\n",
    "    elif (so2>800 and so2<=1600):\n",
    "     si= 300+(so2-800)*(100/800)\n",
    "    elif (so2>1600):\n",
    "     si= 400+(so2-1600)*(100/800)\n",
    "    return si\n",
    "data['SOi']=data['so2'].apply(cal_SOi)\n"
   ]
  },
  {
   "cell_type": "code",
   "execution_count": null,
   "id": "db4008f6",
   "metadata": {},
   "outputs": [],
   "source": [
    "def cal_Noi(no2):\n",
    "    ni=0\n",
    "    if(no2<=40):\n",
    "     ni= no2*50/40\n",
    "    elif(no2>40 and no2<=80):\n",
    "     ni= 50+(no2-40)*(50/40)\n",
    "    elif(no2>80 and no2<=180):\n",
    "     ni= 100+(no2-80)*(100/100)\n",
    "    elif(no2>180 and no2<=280):\n",
    "     ni= 200+(no2-180)*(100/100)\n",
    "    elif(no2>280 and no2<=400):\n",
    "     ni= 300+(no2-280)*(100/120)\n",
    "    else:\n",
    "     ni= 400+(no2-400)*(100/120)\n",
    "    return ni\n",
    "data['Noi']=data['no2'].apply(cal_Noi)\n"
   ]
  },
  {
   "cell_type": "code",
   "execution_count": null,
   "id": "7db6b337",
   "metadata": {},
   "outputs": [],
   "source": [
    "def cal_RSPMi(rspm):\n",
    "    rpi=0\n",
    "    if(rspm<=100):\n",
    "     rpi = rspm\n",
    "    elif(rspm>=101 and rspm<=150):\n",
    "     rpi= 101+(rspm-101)*((200-101)/(150-101))\n",
    "    elif(rspm>=151 and rspm<=350):\n",
    "     ni= 201+(rspm-151)*((300-201)/(350-151))\n",
    "    elif(rspm>=351 and rspm<=420):\n",
    "     ni= 301+(rspm-351)*((400-301)/(420-351))\n",
    "    elif(rspm>420):\n",
    "     ni= 401+(rspm-420)*((500-401)/(420-351))\n",
    "    return rpi\n",
    "data['RSPMi']=data['rspm'].apply(cal_RSPMi)\n"
   ]
  },
  {
   "cell_type": "code",
   "execution_count": null,
   "id": "07fe188b",
   "metadata": {},
   "outputs": [],
   "source": [
    "\n",
    "def cal_SPMi(spm):\n",
    "    spi=0\n",
    "    if(spm<=50):\n",
    "     spi=spm*50/50\n",
    "    elif(spm>50 and spm<=100):\n",
    "     spi=50+(spm-50)*(50/50)\n",
    "    elif(spm>100 and spm<=250):\n",
    "     spi= 100+(spm-100)*(100/150)\n",
    "    elif(spm>250 and spm<=350):\n",
    "     spi=200+(spm-250)*(100/100)\n",
    "    elif(spm>350 and spm<=430):\n",
    "     spi=300+(spm-350)*(100/80)\n",
    "    else:\n",
    "     spi=400+(spm-430)*(100/430)\n",
    "    return spi\n",
    "   \n",
    "data['SPMi']=data['spm'].apply(cal_SPMi)\n"
   ]
  },
  {
   "cell_type": "code",
   "execution_count": null,
   "id": "f31fdd57",
   "metadata": {},
   "outputs": [],
   "source": [
    "def cal_pmi(pm2_5):\n",
    "    pmi=0\n",
    "    if(pm2_5<=50):\n",
    "     pmi=pm2_5*(50/50)\n",
    "    elif(pm2_5>50 and pm2_5<=100):\n",
    "     pmi=50+(pm2_5-50)*(50/50)\n",
    "    elif(pm2_5>100 and pm2_5<=250):\n",
    "     pmi= 100+(pm2_5-100)*(100/150)\n",
    "    elif(pm2_5>250 and pm2_5<=350):\n",
    "     pmi=200+(pm2_5-250)*(100/100)\n",
    "    elif(pm2_5>350 and pm2_5<=450):\n",
    "     pmi=300+(pm2_5-350)*(100/100)\n",
    "    else:\n",
    "     pmi=400+(pm2_5-430)*(100/80)\n",
    "    return pmi\n",
    "data['PMi']=data['pm2_5'].apply(cal_pmi)\n"
   ]
  },
  {
   "cell_type": "code",
   "execution_count": null,
   "id": "a70c86c3",
   "metadata": {},
   "outputs": [],
   "source": [
    "def cal_aqi(si,ni,rspmi,spmi,pmi):\n",
    "    aqi=0\n",
    "    if(si>ni and si>rspmi and si>spmi):\n",
    "     aqi=si\n",
    "    if(ni>si and ni>rspmi and ni>spmi ):\n",
    "     aqi=ni\n",
    "    if(rspmi>si and rspmi>ni and rspmi>spmi ):\n",
    "     aqi=rspmi\n",
    "    if(spmi>si and spmi>ni and spmi>rspmi):\n",
    "     aqi=spmi\n",
    "    return aqi\n",
    "\n",
    "data['AQI']=data.apply(lambda x:cal_aqi(x['SOi'],x['Noi'],x['RSPMi'],x['SPMi'],x['PMi']),axis=1)\n",
    "df= data[['state','SOi','Noi','RSPMi','SPMi','AQI']]\n",
    "df.head()"
   ]
  },
  {
   "cell_type": "code",
   "execution_count": null,
   "id": "fc7c532f",
   "metadata": {},
   "outputs": [],
   "source": [
    "data.head()"
   ]
  },
  {
   "cell_type": "code",
   "execution_count": null,
   "id": "ed27627b",
   "metadata": {},
   "outputs": [],
   "source": [
    "def AQI_Range(x):\n",
    "    if x<=50:\n",
    "        return \"Good\"\n",
    "    elif x>50 and x<=100:\n",
    "        return \"Moderate\"\n",
    "    elif x>100 and x<=200:\n",
    "        return \"Poor\"\n",
    "    elif x>200 and x<=300:\n",
    "        return \"Unhealthy\"\n",
    "    elif x>300 and x<=400:\n",
    "        return \"Very unhealthy\"\n",
    "    elif x>400:\n",
    "        return \"Hazardous\"\n",
    "\n",
    "data['AQI_Range'] = data['AQI'] .apply(AQI_Range)\n",
    "data.head()"
   ]
  },
  {
   "cell_type": "code",
   "execution_count": null,
   "id": "74f8aa7d",
   "metadata": {},
   "outputs": [],
   "source": [
    "data=data.dropna(subset=['spm']) #spm\n",
    "data=data.dropna(subset=['pm2_5']) #spm\n",
    "data.isna().sum() #all null values removed"
   ]
  },
  {
   "cell_type": "code",
   "execution_count": null,
   "id": "f1c2acfe",
   "metadata": {},
   "outputs": [],
   "source": [
    "f, ax = plt.subplots(figsize = (10, 10))\n",
    "ax.set_title('{} by state and year'.format('AQI'))\n",
    "sns.heatmap(data.pivot_table('AQI', index ='state',\n",
    "                columns = ['year'], aggfunc = 'median', margins = True)\n",
    "                , cmap = \"YlGnBu\", linewidths = 0.5, ax = ax, cbar_kws = {'label': 'Annual Average'})"
   ]
  },
  {
   "cell_type": "code",
   "execution_count": null,
   "id": "486d9629",
   "metadata": {},
   "outputs": [],
   "source": [
    "X = data[['SOi','Noi','RSPMi','SPMi','PMi']]\n",
    "Y = data['AQI']\n",
    "Y.head()\n",
    "X.head()"
   ]
  },
  {
   "cell_type": "code",
   "execution_count": null,
   "id": "2692acc1",
   "metadata": {},
   "outputs": [],
   "source": [
    "data[['SOi','Noi','RSPMi','SPMi','PMi','AQI']].head()"
   ]
  },
  {
   "cell_type": "code",
   "execution_count": null,
   "id": "9d9422b5",
   "metadata": {},
   "outputs": [],
   "source": [
    "corrmat = data[['SOi','Noi','RSPMi','SPMi','PMi','AQI']].corr()\n",
    "f, ax = plt.subplots(figsize = (15, 10))\n",
    "sns.heatmap(corrmat, vmax = 1, square = True, annot = True)"
   ]
  },
  {
   "cell_type": "code",
   "execution_count": null,
   "id": "f10e2281",
   "metadata": {},
   "outputs": [],
   "source": [
    "X_train, X_test, y_train, y_test = train_test_split(X,Y, test_size=0.2,random_state=101)"
   ]
  },
  {
   "cell_type": "code",
   "execution_count": null,
   "id": "4da98f2d",
   "metadata": {},
   "outputs": [],
   "source": [
    "LR = LinearRegression() \n",
    "LR.fit(X_train, y_train)"
   ]
  },
  {
   "cell_type": "code",
   "execution_count": null,
   "id": "3cbac182",
   "metadata": {},
   "outputs": [],
   "source": [
    "LR.intercept_"
   ]
  },
  {
   "cell_type": "code",
   "execution_count": null,
   "id": "da4c79fc",
   "metadata": {},
   "outputs": [],
   "source": [
    "LR.coef_"
   ]
  },
  {
   "cell_type": "code",
   "execution_count": null,
   "id": "1887d5ed",
   "metadata": {},
   "outputs": [],
   "source": [
    "LR.predict(X_test)"
   ]
  },
  {
   "cell_type": "code",
   "execution_count": null,
   "id": "18bf6216",
   "metadata": {},
   "outputs": [],
   "source": [
    "predictions = LR.predict(X_test)\n",
    "plt.scatter(y_test,predictions)\n",
    "plt.xlabel('Y Test')\n",
    "plt.ylabel('Predicted Y')"
   ]
  },
  {
   "cell_type": "code",
   "execution_count": null,
   "id": "0618793a",
   "metadata": {},
   "outputs": [],
   "source": [
    "LR.score(X_test,y_test)"
   ]
  },
  {
   "cell_type": "code",
   "execution_count": null,
   "id": "222da5a2",
   "metadata": {},
   "outputs": [],
   "source": [
    "print('R^2_Square:%.2f '% r2_score(y_test, predictions))\n",
    "print('MSE:%.2f '% np.sqrt(mean_squared_error(y_test, predictions)))"
   ]
  },
  {
   "cell_type": "code",
   "execution_count": null,
   "id": "df94ec7b",
   "metadata": {},
   "outputs": [],
   "source": []
  }
 ],
 "metadata": {
  "kernelspec": {
   "display_name": "Python 3",
   "language": "python",
   "name": "python3"
  },
  "language_info": {
   "codemirror_mode": {
    "name": "ipython",
    "version": 3
   },
   "file_extension": ".py",
   "mimetype": "text/x-python",
   "name": "python",
   "nbconvert_exporter": "python",
   "pygments_lexer": "ipython3",
   "version": "3.8.8"
  }
 },
 "nbformat": 4,
 "nbformat_minor": 5
}
